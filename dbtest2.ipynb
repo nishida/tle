{
 "cells": [
  {
   "cell_type": "markdown",
   "metadata": {},
   "source": [
    "## SQLiteのテスト その2"
   ]
  },
  {
   "cell_type": "markdown",
   "metadata": {},
   "source": [
    "大量の軌道要素データをSQLiteのデータベースに格納するテスト。\n",
    "\n",
    "軌道要素データは json2parquet.py で parquet に変換済みであることを前提とする。"
   ]
  },
  {
   "cell_type": "code",
   "execution_count": 1,
   "metadata": {},
   "outputs": [],
   "source": [
    "from datetime import datetime\n",
    "import pandas as pd\n",
    "import json\n",
    "import os\n",
    "import glob\n",
    "import matplotlib.dates as mdates\n",
    "import matplotlib.pyplot as plt\n",
    "from pandas.plotting import register_matplotlib_converters\n",
    "register_matplotlib_converters()\n",
    "import sqlite3"
   ]
  },
  {
   "cell_type": "code",
   "execution_count": 2,
   "metadata": {},
   "outputs": [],
   "source": [
    "pd.set_option('display.max_columns', 50)\n",
    "pd.set_option(\"display.max_rows\", 100)\n",
    "pd.set_option(\"display.max_colwidth\", 80)"
   ]
  },
  {
   "cell_type": "code",
   "execution_count": 3,
   "metadata": {},
   "outputs": [],
   "source": [
    "# Parquetファイル\n",
    "files = sorted(glob.glob('download/19[89]*.parquet'))"
   ]
  },
  {
   "cell_type": "code",
   "execution_count": 4,
   "metadata": {},
   "outputs": [],
   "source": [
    "# DBファイル\n",
    "dbfile = 'db/dbtest2.sqlite3'"
   ]
  },
  {
   "cell_type": "code",
   "execution_count": 5,
   "metadata": {},
   "outputs": [],
   "source": [
    "# DBに保存するcolumn\n",
    "columns_out = ['CREATION_DATE', 'EPOCH', 'OBJECT_ID', 'MEAN_MOTION', 'ECCENTRICITY', 'INCLINATION', 'RA_OF_ASC_NODE',\n",
    "    'ARG_OF_PERICENTER', 'MEAN_ANOMALY', 'NORAD_CAT_ID', 'REV_AT_EPOCH', 'BSTAR', 'SEMIMAJOR_AXIS',\n",
    "    'PERIOD', 'APOAPSIS', 'PERIAPSIS', 'GP_ID', 'TLE_LINE0', 'TLE_LINE1', 'TLE_LINE2']"
   ]
  },
  {
   "cell_type": "code",
   "execution_count": 6,
   "metadata": {},
   "outputs": [],
   "source": [
    "# テーブルとindexを作成する\n",
    "# GP_ID を primary key とする\n",
    "def create_table(cur, tablename):\n",
    "    cur.execute('DROP TABLE IF EXISTS {}'.format(tablename))\n",
    "    # cur.execute('VACUUM')\n",
    "    cur.execute('''CREATE TABLE IF NOT EXISTS {} (\n",
    "        CREATION_DATE timestamp, EPOCH timestamp, OBJECT_ID text,\n",
    "        MEAN_MOTION real, ECCENTRICITY real, INCLINATION real, RA_OF_ASC_NODE real, ARG_OF_PERICENTER real, MEAN_ANOMALY real,\n",
    "        NORAD_CAT_ID integer, REV_AT_EPOCH integer, BSTAR real, SEMIMAJOR_AXIS real, PERIOD real, APOAPSIS real, PERIAPSIS real,\n",
    "        GP_ID integer primary key, TLE_LINE0 text, TLE_LINE1 text, TLE_LINE2 text)'''.format(tablename))\n",
    "    cur.execute('CREATE INDEX IF NOT EXISTS index_{0}_epoch ON {0} (EPOCH)'.format(tablename))\n",
    "    cur.execute('CREATE INDEX IF NOT EXISTS index_{0}_norad_cat_id ON {0} (NORAD_CAT_ID)'.format(tablename))"
   ]
  },
  {
   "cell_type": "code",
   "execution_count": 7,
   "metadata": {},
   "outputs": [
    {
     "data": {
      "text/plain": [
       "'3.33.0'"
      ]
     },
     "execution_count": 7,
     "metadata": {},
     "output_type": "execute_result"
    }
   ],
   "source": [
    "# SQLite3 のバージョンの確認 (3.24.0 でUPSERTサポート)\n",
    "sqlite3.sqlite_version"
   ]
  },
  {
   "cell_type": "code",
   "execution_count": 8,
   "metadata": {},
   "outputs": [],
   "source": [
    "# DBに接続\n",
    "con = sqlite3.connect(dbfile)\n",
    "cur = con.cursor()"
   ]
  },
  {
   "cell_type": "code",
   "execution_count": 9,
   "metadata": {},
   "outputs": [
    {
     "name": "stdout",
     "output_type": "stream",
     "text": [
      "624982\n"
     ]
    }
   ],
   "source": [
    "# テスト用データ\n",
    "df = pd.read_parquet(files[0], columns = columns_out)\n",
    "print(len(df))"
   ]
  },
  {
   "cell_type": "code",
   "execution_count": 10,
   "metadata": {},
   "outputs": [],
   "source": [
    "create_table(cur, 'elset')"
   ]
  },
  {
   "cell_type": "code",
   "execution_count": 11,
   "metadata": {},
   "outputs": [
    {
     "name": "stdout",
     "output_type": "stream",
     "text": [
      "CPU times: user 9.42 s, sys: 5.98 s, total: 15.4 s\n",
      "Wall time: 15.3 s\n"
     ]
    }
   ],
   "source": [
    "%%time\n",
    "# 普通に to_sql で追加\n",
    "df.to_sql('elset', con, if_exists='append', index=None)"
   ]
  },
  {
   "cell_type": "code",
   "execution_count": 12,
   "metadata": {},
   "outputs": [],
   "source": [
    "create_table(cur, 'elset2')"
   ]
  },
  {
   "cell_type": "code",
   "execution_count": 13,
   "metadata": {},
   "outputs": [
    {
     "name": "stdout",
     "output_type": "stream",
     "text": [
      "CPU times: user 1.82 s, sys: 93.1 ms, total: 1.92 s\n",
      "Wall time: 1.91 s\n"
     ]
    }
   ],
   "source": [
    "%%time\n",
    "# execute は datetime64 を受け付けないので、日時を str に変換する (to_pydatetime() で datetime に変換してもよい)\n",
    "df2 = df.copy()\n",
    "df2['CREATION_DATE'] = df2['CREATION_DATE'].astype(str)\n",
    "df2['EPOCH'] = df2['EPOCH'].astype(str)"
   ]
  },
  {
   "cell_type": "code",
   "execution_count": 14,
   "metadata": {},
   "outputs": [
    {
     "name": "stdout",
     "output_type": "stream",
     "text": [
      "1.09 s ± 2.91 ms per loop (mean ± std. dev. of 7 runs, 1 loop each)\n",
      "1.78 s ± 3.38 ms per loop (mean ± std. dev. of 7 runs, 1 loop each)\n",
      "1.05 s ± 4.15 ms per loop (mean ± std. dev. of 7 runs, 1 loop each)\n",
      "1.06 s ± 1.55 ms per loop (mean ± std. dev. of 7 runs, 1 loop each)\n"
     ]
    }
   ],
   "source": [
    "# tupleのlist (または listのlist) に変換する時間\n",
    "%timeit a=list(df2.itertuples(index=False, name=None))\n",
    "%timeit a=df2.to_records(index=False).tolist()\n",
    "%timeit a=list(df2.to_records(index=False))\n",
    "%timeit a=df2.values.tolist()"
   ]
  },
  {
   "cell_type": "code",
   "execution_count": 15,
   "metadata": {},
   "outputs": [
    {
     "name": "stdout",
     "output_type": "stream",
     "text": [
      "CPU times: user 7.74 s, sys: 5.52 s, total: 13.3 s\n",
      "Wall time: 13.3 s\n"
     ]
    }
   ],
   "source": [
    "%%time\n",
    "# listのlistに変換して、executemany で追加\n",
    "cur.executemany('INSERT INTO elset2 VALUES (?,?,?,?,?,?,?,?,?,?,?,?,?,?,?,?,?,?,?,?)', df2.values.tolist())\n",
    "con.commit()"
   ]
  },
  {
   "cell_type": "code",
   "execution_count": 16,
   "metadata": {},
   "outputs": [
    {
     "name": "stdout",
     "output_type": "stream",
     "text": [
      "CPU times: user 8.73 s, sys: 3.83 s, total: 12.6 s\n",
      "Wall time: 12.7 s\n"
     ]
    }
   ],
   "source": [
    "%%time\n",
    "# 同じデータを再度追加する\n",
    "# GP_ID を PRIMARY KEY としているので、GP_ID が重複している可能性のあるデータを追加するには REPLACE が必要だが効率が悪い\n",
    "cur.executemany('REPLACE INTO elset2 VALUES (?,?,?,?,?,?,?,?,?,?,?,?,?,?,?,?,?,?,?,?)', df2.values.tolist())\n",
    "con.commit()"
   ]
  },
  {
   "cell_type": "code",
   "execution_count": 17,
   "metadata": {},
   "outputs": [
    {
     "name": "stdout",
     "output_type": "stream",
     "text": [
      "CPU times: user 4.35 s, sys: 1.07 s, total: 5.42 s\n",
      "Wall time: 5.4 s\n"
     ]
    }
   ],
   "source": [
    "%%time\n",
    "# 同じデータを再度追加する\n",
    "# 最近の SQLite では ON COFLICT 句を用いることで、重複データが大量にある場合には余分なDELETE/INSERTを行わずに済むので速い\n",
    "cur.executemany('''INSERT INTO elset2 VALUES (?,?,?,?,?,?,?,?,?,?,?,?,?,?,?,?,?,?,?,?)\n",
    "    ON CONFLICT(GP_ID) DO NOTHING''', df2.values.tolist())\n",
    "con.commit()"
   ]
  },
  {
   "cell_type": "code",
   "execution_count": 18,
   "metadata": {},
   "outputs": [],
   "source": [
    "# 以下、大量のデータをDBに格納する"
   ]
  },
  {
   "cell_type": "code",
   "execution_count": 19,
   "metadata": {},
   "outputs": [],
   "source": [
    "create_table(cur, 'elset3')"
   ]
  },
  {
   "cell_type": "code",
   "execution_count": 20,
   "metadata": {},
   "outputs": [
    {
     "name": "stdout",
     "output_type": "stream",
     "text": [
      "32688590\n",
      "CPU times: user 10min 5s, sys: 6min 37s, total: 16min 42s\n",
      "Wall time: 16min 32s\n"
     ]
    }
   ],
   "source": [
    "%%time\n",
    "# REPLACEの場合\n",
    "l = 0\n",
    "for file in files:\n",
    "    df = pd.read_parquet(file, columns = columns_out)\n",
    "    l += len(df)\n",
    "    df['CREATION_DATE'] = df['CREATION_DATE'].astype(str)\n",
    "    df['EPOCH'] = df['EPOCH'].astype(str)\n",
    "    cur.executemany('REPLACE INTO elset3 VALUES (?,?,?,?,?,?,?,?,?,?,?,?,?,?,?,?,?,?,?,?)', df.values.tolist())\n",
    "con.commit()\n",
    "print(l)"
   ]
  },
  {
   "cell_type": "code",
   "execution_count": 21,
   "metadata": {},
   "outputs": [
    {
     "data": {
      "text/plain": [
       "(32688585,)"
      ]
     },
     "execution_count": 21,
     "metadata": {},
     "output_type": "execute_result"
    }
   ],
   "source": [
    "cur.execute('SELECT COUNT(*) from elset3')\n",
    "cur.fetchone()"
   ]
  },
  {
   "cell_type": "code",
   "execution_count": 22,
   "metadata": {},
   "outputs": [],
   "source": [
    "create_table(cur, 'elset4')"
   ]
  },
  {
   "cell_type": "code",
   "execution_count": 23,
   "metadata": {},
   "outputs": [
    {
     "name": "stdout",
     "output_type": "stream",
     "text": [
      "32688590\n",
      "CPU times: user 10min 4s, sys: 6min 41s, total: 16min 46s\n",
      "Wall time: 16min 8s\n"
     ]
    }
   ],
   "source": [
    "%%time\n",
    "# INSERT ON CONFLICT DO NOTHING の場合 (重複データ数が少ないと所要時間はREPLACEとほとんど変わらない)\n",
    "l = 0\n",
    "for file in files:\n",
    "    df = pd.read_parquet(file, columns = columns_out)\n",
    "    l += len(df)\n",
    "    df['CREATION_DATE'] = df['CREATION_DATE'].astype(str)\n",
    "    df['EPOCH'] = df['EPOCH'].astype(str)\n",
    "    cur.executemany('''INSERT INTO elset4 VALUES (?,?,?,?,?,?,?,?,?,?,?,?,?,?,?,?,?,?,?,?)\n",
    "    ON CONFLICT(GP_ID) DO NOTHING''', df.values.tolist())\n",
    "con.commit()\n",
    "print(l)"
   ]
  },
  {
   "cell_type": "code",
   "execution_count": 24,
   "metadata": {},
   "outputs": [
    {
     "data": {
      "text/plain": [
       "(32688585,)"
      ]
     },
     "execution_count": 24,
     "metadata": {},
     "output_type": "execute_result"
    }
   ],
   "source": [
    "cur.execute('SELECT COUNT(*) from elset4')\n",
    "cur.fetchone()"
   ]
  },
  {
   "cell_type": "code",
   "execution_count": 25,
   "metadata": {},
   "outputs": [
    {
     "data": {
      "text/plain": [
       "<sqlite3.Cursor at 0x2b4dd253bb90>"
      ]
     },
     "execution_count": 25,
     "metadata": {},
     "output_type": "execute_result"
    }
   ],
   "source": [
    "create_table(cur, 'elset5')\n",
    "cur.execute('DROP INDEX IF EXISTS index_elset5_epoch')\n",
    "cur.execute('DROP INDEX IF EXISTS index_elset5_norad_cat_id')"
   ]
  },
  {
   "cell_type": "code",
   "execution_count": 26,
   "metadata": {},
   "outputs": [
    {
     "name": "stdout",
     "output_type": "stream",
     "text": [
      "32688590\n",
      "CPU times: user 6min 14s, sys: 1min 49s, total: 8min 3s\n",
      "Wall time: 6min 59s\n"
     ]
    }
   ],
   "source": [
    "%%time\n",
    "# INDEXなしで追加し、最後にINDEXを追加する\n",
    "l = 0\n",
    "for file in files:\n",
    "    df = pd.read_parquet(file, columns = columns_out)\n",
    "    l += len(df)\n",
    "    df['CREATION_DATE'] = df['CREATION_DATE'].astype(str)\n",
    "    df['EPOCH'] = df['EPOCH'].astype(str)\n",
    "    cur.executemany('''INSERT INTO elset4 VALUES (?,?,?,?,?,?,?,?,?,?,?,?,?,?,?,?,?,?,?,?)\n",
    "    ON CONFLICT(GP_ID) DO NOTHING''', df.values.tolist())\n",
    "con.commit()\n",
    "cur.execute('CREATE INDEX IF NOT EXISTS index_elset5_epoch ON elset5 (EPOCH)')\n",
    "cur.execute('CREATE INDEX IF NOT EXISTS index_elset5_norad_cat_id ON elset5 (NORAD_CAT_ID)')\n",
    "print(l)"
   ]
  },
  {
   "cell_type": "code",
   "execution_count": 27,
   "metadata": {},
   "outputs": [],
   "source": [
    "con.close()"
   ]
  }
 ],
 "metadata": {
  "kernelspec": {
   "display_name": "Python 3",
   "language": "python",
   "name": "python3"
  },
  "language_info": {
   "codemirror_mode": {
    "name": "ipython",
    "version": 3
   },
   "file_extension": ".py",
   "mimetype": "text/x-python",
   "name": "python",
   "nbconvert_exporter": "python",
   "pygments_lexer": "ipython3",
   "version": "3.8.0"
  }
 },
 "nbformat": 4,
 "nbformat_minor": 4
}
