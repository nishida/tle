{
 "cells": [
  {
   "cell_type": "markdown",
   "metadata": {},
   "source": [
    "# spacetrackのテスト"
   ]
  },
  {
   "cell_type": "markdown",
   "metadata": {},
   "source": [
    "see https://pythonhosted.org/spacetrack/usage.html"
   ]
  },
  {
   "cell_type": "code",
   "execution_count": 1,
   "metadata": {},
   "outputs": [],
   "source": [
    "import spacetrack.operators as op\n",
    "from spacetrack import SpaceTrackClient\n",
    "import pandas as pd\n",
    "import json"
   ]
  },
  {
   "cell_type": "code",
   "execution_count": 2,
   "metadata": {},
   "outputs": [],
   "source": [
    "# userid and password are set in here\n",
    "import spacetrackaccount\n",
    "# print(\"Login with \" + spacetrackaccount.userid)"
   ]
  },
  {
   "cell_type": "code",
   "execution_count": 3,
   "metadata": {},
   "outputs": [],
   "source": [
    "st = SpaceTrackClient(spacetrackaccount.userid, spacetrackaccount.password)"
   ]
  },
  {
   "cell_type": "code",
   "execution_count": 4,
   "metadata": {},
   "outputs": [],
   "source": [
    "def mycallback(until):\n",
    "    duration = int(round(until - time.time()))\n",
    "    print('Sleeping for {:d} seconds.'.format(duration))\n",
    "\n",
    "st.callback = mycallback"
   ]
  },
  {
   "cell_type": "code",
   "execution_count": 5,
   "metadata": {},
   "outputs": [],
   "source": [
    "# example\n",
    "#data = st.tle_latest(iter_lines=True, ordinal=1, epoch='>now-30',\n",
    "#                     mean_motion=op.inclusive_range(0.99, 1.01),\n",
    "#                     eccentricity=op.less_than(0.01), format='tle')"
   ]
  },
  {
   "cell_type": "code",
   "execution_count": 6,
   "metadata": {},
   "outputs": [],
   "source": [
    "# 全衛星の最新データ(30日以内)\n",
    "data = st.tle_latest(iter_lines=True, ordinal=1, epoch='>now-30', orderby='norad_cat_id', format='3le')"
   ]
  },
  {
   "cell_type": "code",
   "execution_count": 7,
   "metadata": {},
   "outputs": [],
   "source": [
    "with open('download/tle_latest.txt', 'w') as fp:\n",
    "    for line in data:\n",
    "        fp.write(line + '\\n')"
   ]
  },
  {
   "cell_type": "code",
   "execution_count": 8,
   "metadata": {},
   "outputs": [],
   "source": [
    "# 特定の衛星の過去の全データ\n",
    "data = st.tle(iter_lines=True, norad_cat_id=25544, orderby='epoch', format='tle')"
   ]
  },
  {
   "cell_type": "code",
   "execution_count": 9,
   "metadata": {},
   "outputs": [],
   "source": [
    "with open('download/tle_25544_all.txt', 'w') as fp:\n",
    "    for line in data:\n",
    "        fp.write(line + '\\n')"
   ]
  },
  {
   "cell_type": "code",
   "execution_count": 10,
   "metadata": {},
   "outputs": [],
   "source": [
    "# 複数の衛星の過去の全データをjsonで取得\n",
    "data = st.tle(norad_cat_id=[op.inclusive_range(1, 20)], orderby=['norad_cat_id', 'epoch'], format='json')"
   ]
  },
  {
   "cell_type": "code",
   "execution_count": 11,
   "metadata": {},
   "outputs": [],
   "source": [
    "with open('download/test.json', 'w') as fp:\n",
    "        fp.write(data)"
   ]
  },
  {
   "cell_type": "code",
   "execution_count": 12,
   "metadata": {},
   "outputs": [],
   "source": [
    "df = pd.read_json(data, orient='records')"
   ]
  },
  {
   "cell_type": "code",
   "execution_count": 13,
   "metadata": {},
   "outputs": [
    {
     "data": {
      "text/html": [
       "<div>\n",
       "<style scoped>\n",
       "    .dataframe tbody tr th:only-of-type {\n",
       "        vertical-align: middle;\n",
       "    }\n",
       "\n",
       "    .dataframe tbody tr th {\n",
       "        vertical-align: top;\n",
       "    }\n",
       "\n",
       "    .dataframe thead th {\n",
       "        text-align: right;\n",
       "    }\n",
       "</style>\n",
       "<table border=\"1\" class=\"dataframe\">\n",
       "  <thead>\n",
       "    <tr style=\"text-align: right;\">\n",
       "      <th></th>\n",
       "      <th>COMMENT</th>\n",
       "      <th>ORIGINATOR</th>\n",
       "      <th>NORAD_CAT_ID</th>\n",
       "      <th>OBJECT_NAME</th>\n",
       "      <th>OBJECT_TYPE</th>\n",
       "      <th>CLASSIFICATION_TYPE</th>\n",
       "      <th>INTLDES</th>\n",
       "      <th>EPOCH</th>\n",
       "      <th>EPOCH_MICROSECONDS</th>\n",
       "      <th>MEAN_MOTION</th>\n",
       "      <th>...</th>\n",
       "      <th>TLE_LINE0</th>\n",
       "      <th>TLE_LINE1</th>\n",
       "      <th>TLE_LINE2</th>\n",
       "      <th>OBJECT_ID</th>\n",
       "      <th>OBJECT_NUMBER</th>\n",
       "      <th>SEMIMAJOR_AXIS</th>\n",
       "      <th>PERIOD</th>\n",
       "      <th>APOGEE</th>\n",
       "      <th>PERIGEE</th>\n",
       "      <th>DECAYED</th>\n",
       "    </tr>\n",
       "  </thead>\n",
       "  <tbody>\n",
       "    <tr>\n",
       "      <th>0</th>\n",
       "      <td>GENERATED VIA SPACETRACK.ORG API</td>\n",
       "      <td>18 SPCS</td>\n",
       "      <td>4</td>\n",
       "      <td>EXPLORER 1</td>\n",
       "      <td>PAYLOAD</td>\n",
       "      <td>U</td>\n",
       "      <td>58001A</td>\n",
       "      <td>1959-07-09 22:15:15</td>\n",
       "      <td>874847</td>\n",
       "      <td>13.063418</td>\n",
       "      <td>...</td>\n",
       "      <td>0 EXPLORER 1</td>\n",
       "      <td>1 00004U 58001  A 59190.92726707  .00080584 +0...</td>\n",
       "      <td>2 00004 033.1849 192.1350 1155556 327.9492 035...</td>\n",
       "      <td>1958-001A</td>\n",
       "      <td>4</td>\n",
       "      <td>7615.485</td>\n",
       "      <td>110.231</td>\n",
       "      <td>2117.362</td>\n",
       "      <td>357.338</td>\n",
       "      <td>1</td>\n",
       "    </tr>\n",
       "    <tr>\n",
       "      <th>1</th>\n",
       "      <td>GENERATED VIA SPACETRACK.ORG API</td>\n",
       "      <td>18 SPCS</td>\n",
       "      <td>4</td>\n",
       "      <td>EXPLORER 1</td>\n",
       "      <td>PAYLOAD</td>\n",
       "      <td>U</td>\n",
       "      <td>58001A</td>\n",
       "      <td>1959-07-17 13:46:31</td>\n",
       "      <td>735488</td>\n",
       "      <td>13.075958</td>\n",
       "      <td>...</td>\n",
       "      <td>0 EXPLORER 1</td>\n",
       "      <td>1 00004U 58001  A 59198.57397842  .00082991 +0...</td>\n",
       "      <td>2 00004 033.1849 157.3663 1149895 020.6576 341...</td>\n",
       "      <td>1958-001A</td>\n",
       "      <td>4</td>\n",
       "      <td>7610.615</td>\n",
       "      <td>110.125</td>\n",
       "      <td>2107.621</td>\n",
       "      <td>357.339</td>\n",
       "      <td>1</td>\n",
       "    </tr>\n",
       "    <tr>\n",
       "      <th>2</th>\n",
       "      <td>GENERATED VIA SPACETRACK.ORG API</td>\n",
       "      <td>18 SPCS</td>\n",
       "      <td>4</td>\n",
       "      <td>EXPLORER 1</td>\n",
       "      <td>PAYLOAD</td>\n",
       "      <td>U</td>\n",
       "      <td>58001A</td>\n",
       "      <td>1959-08-01 20:45:25</td>\n",
       "      <td>598304</td>\n",
       "      <td>13.072853</td>\n",
       "      <td>...</td>\n",
       "      <td>0 EXPLORER 1</td>\n",
       "      <td>1 00004U 58001  A 59213.86487961  .00063193 +0...</td>\n",
       "      <td>2 00004 033.1849 087.4068 1151275 126.2272 239...</td>\n",
       "      <td>1958-001A</td>\n",
       "      <td>4</td>\n",
       "      <td>7611.820</td>\n",
       "      <td>110.151</td>\n",
       "      <td>2110.015</td>\n",
       "      <td>357.355</td>\n",
       "      <td>1</td>\n",
       "    </tr>\n",
       "  </tbody>\n",
       "</table>\n",
       "<p>3 rows × 32 columns</p>\n",
       "</div>"
      ],
      "text/plain": [
       "                            COMMENT ORIGINATOR  NORAD_CAT_ID OBJECT_NAME  \\\n",
       "0  GENERATED VIA SPACETRACK.ORG API    18 SPCS             4  EXPLORER 1   \n",
       "1  GENERATED VIA SPACETRACK.ORG API    18 SPCS             4  EXPLORER 1   \n",
       "2  GENERATED VIA SPACETRACK.ORG API    18 SPCS             4  EXPLORER 1   \n",
       "\n",
       "  OBJECT_TYPE CLASSIFICATION_TYPE INTLDES                EPOCH  \\\n",
       "0     PAYLOAD                   U  58001A  1959-07-09 22:15:15   \n",
       "1     PAYLOAD                   U  58001A  1959-07-17 13:46:31   \n",
       "2     PAYLOAD                   U  58001A  1959-08-01 20:45:25   \n",
       "\n",
       "   EPOCH_MICROSECONDS  MEAN_MOTION  ...     TLE_LINE0  \\\n",
       "0              874847    13.063418  ...  0 EXPLORER 1   \n",
       "1              735488    13.075958  ...  0 EXPLORER 1   \n",
       "2              598304    13.072853  ...  0 EXPLORER 1   \n",
       "\n",
       "                                           TLE_LINE1  \\\n",
       "0  1 00004U 58001  A 59190.92726707  .00080584 +0...   \n",
       "1  1 00004U 58001  A 59198.57397842  .00082991 +0...   \n",
       "2  1 00004U 58001  A 59213.86487961  .00063193 +0...   \n",
       "\n",
       "                                           TLE_LINE2  OBJECT_ID  \\\n",
       "0  2 00004 033.1849 192.1350 1155556 327.9492 035...  1958-001A   \n",
       "1  2 00004 033.1849 157.3663 1149895 020.6576 341...  1958-001A   \n",
       "2  2 00004 033.1849 087.4068 1151275 126.2272 239...  1958-001A   \n",
       "\n",
       "   OBJECT_NUMBER  SEMIMAJOR_AXIS   PERIOD    APOGEE  PERIGEE  DECAYED  \n",
       "0              4        7615.485  110.231  2117.362  357.338        1  \n",
       "1              4        7610.615  110.125  2107.621  357.339        1  \n",
       "2              4        7611.820  110.151  2110.015  357.355        1  \n",
       "\n",
       "[3 rows x 32 columns]"
      ]
     },
     "execution_count": 13,
     "metadata": {},
     "output_type": "execute_result"
    }
   ],
   "source": [
    "df[0:3]"
   ]
  },
  {
   "cell_type": "code",
   "execution_count": 14,
   "metadata": {},
   "outputs": [
    {
     "data": {
      "text/plain": [
       "'1 00004U 58001  A 59190.92726707  .00080584 +00000-0 +00000-0 0  9997'"
      ]
     },
     "execution_count": 14,
     "metadata": {},
     "output_type": "execute_result"
    }
   ],
   "source": [
    "df.TLE_LINE1[0]"
   ]
  },
  {
   "cell_type": "code",
   "execution_count": null,
   "metadata": {},
   "outputs": [],
   "source": []
  }
 ],
 "metadata": {
  "kernelspec": {
   "display_name": "Python 3",
   "language": "python",
   "name": "python3"
  },
  "language_info": {
   "codemirror_mode": {
    "name": "ipython",
    "version": 3
   },
   "file_extension": ".py",
   "mimetype": "text/x-python",
   "name": "python",
   "nbconvert_exporter": "python",
   "pygments_lexer": "ipython3",
   "version": "3.8.0"
  }
 },
 "nbformat": 4,
 "nbformat_minor": 4
}
